{
 "cells": [
  {
   "cell_type": "code",
   "execution_count": 1,
   "id": "3853273a",
   "metadata": {},
   "outputs": [],
   "source": [
    "import os\n",
    "os.chdir(\"C:\\\\Users\\\\HP\\\\OneDrive\\\\Desktop\\\\Machine Learning\\\\Logistic Regression\")\n",
    "import pandas as pd \n",
    "pd.set_option('display.max_column',None)\n",
    "#import numpy as np \n",
    "import matplotlib.pyplot as plt\n",
    "import seaborn as sns\n",
    "#import statsmodels.api as sm\n",
    "#import statsmodels.formula.api as smf\n",
    "#from scipy.stats import chi2_contingency\n",
    "#from sklearn.preprocessing import LabelEncoder \n",
    "#from statsmodels.stats.outliers_influence import variance_inflation_factor\n",
    "from sklearn.linear_model import LogisticRegression\n",
    "from sklearn import metrics\n",
    "from sklearn.metrics import classification_report, confusion_matrix\n",
    "#from sklearn.metrics import roc_curve, auc, roc_auc_score\n",
    "#from sklearn.utils import resample"
   ]
  },
  {
   "cell_type": "code",
   "execution_count": 2,
   "id": "6566730f",
   "metadata": {},
   "outputs": [],
   "source": [
    "# we need below also \n",
    "from sklearn.preprocessing import MinMaxScaler"
   ]
  },
  {
   "cell_type": "code",
   "execution_count": 11,
   "id": "df0bf363",
   "metadata": {},
   "outputs": [
    {
     "name": "stdout",
     "output_type": "stream",
     "text": [
      "<class 'pandas.core.frame.DataFrame'>\n",
      "RangeIndex: 150 entries, 0 to 149\n",
      "Data columns (total 5 columns):\n",
      " #   Column        Non-Null Count  Dtype  \n",
      "---  ------        --------------  -----  \n",
      " 0   Sepal.Length  150 non-null    float64\n",
      " 1   Sepal.Width   150 non-null    float64\n",
      " 2   Petal.Length  150 non-null    float64\n",
      " 3   Petal.Width   150 non-null    float64\n",
      " 4   Species       150 non-null    object \n",
      "dtypes: float64(4), object(1)\n",
      "memory usage: 6.0+ KB\n"
     ]
    }
   ],
   "source": [
    "df = pd.read_csv('iris.csv') #150; 5 \n",
    "df.info()"
   ]
  },
  {
   "cell_type": "code",
   "execution_count": 12,
   "id": "b9cbb1ea",
   "metadata": {},
   "outputs": [
    {
     "data": {
      "text/plain": [
       "setosa        50\n",
       "versicolor    50\n",
       "virginica     50\n",
       "Name: Species, dtype: int64"
      ]
     },
     "execution_count": 12,
     "metadata": {},
     "output_type": "execute_result"
    }
   ],
   "source": [
    "df.Species.value_counts()"
   ]
  },
  {
   "cell_type": "code",
   "execution_count": 13,
   "id": "8df1710e",
   "metadata": {},
   "outputs": [
    {
     "data": {
      "text/plain": [
       "Text(0.5, 1.0, 'Barplot of Species')"
      ]
     },
     "execution_count": 13,
     "metadata": {},
     "output_type": "execute_result"
    },
    {
     "data": {
      "image/png": "[encoded data removed]",
      "text/plain": [
       "<Figure size 640x480 with 1 Axes>"
      ]
     },
     "metadata": {},
     "output_type": "display_data"
    }
   ],
   "source": [
    "# Bar Plot of Species\n",
    "sns.countplot(x = 'Species', data = df, palette='Dark2')\n",
    "plt.title('Barplot of Species', fontsize = 20)\n"
   ]
  },
  {
   "cell_type": "code",
   "execution_count": 14,
   "id": "97848d15",
   "metadata": {},
   "outputs": [
    {
     "data": {
      "text/plain": [
       "0    50\n",
       "1    50\n",
       "2    50\n",
       "Name: target, dtype: int64"
      ]
     },
     "execution_count": 14,
     "metadata": {},
     "output_type": "execute_result"
    }
   ],
   "source": [
    "# as Species levels are in text, we need to \n",
    "# put nos, see a new way! other than LabelEncoder!\n",
    "\n",
    "df['target'] = df.Species.astype('category').cat.codes\n",
    "df.target.value_counts()"
   ]
  },
  {
   "cell_type": "code",
   "execution_count": 15,
   "id": "7cd8b53d",
   "metadata": {},
   "outputs": [],
   "source": [
    "# predictors and target var, X and y\n",
    "X = df.drop(['Species', 'target'], axis = 1)\n",
    "y = df.target"
   ]
  },
  {
   "cell_type": "code",
   "execution_count": 16,
   "id": "467a36d4",
   "metadata": {},
   "outputs": [],
   "source": [
    "from sklearn.preprocessing import MinMaxScaler\n",
    "scaler = MinMaxScaler()\n",
    "X = scaler.fit_transform(X)"
   ]
  },
  {
   "cell_type": "code",
   "execution_count": 17,
   "id": "7670a5aa",
   "metadata": {},
   "outputs": [
    {
     "name": "stdout",
     "output_type": "stream",
     "text": [
      "oaa_ovr= 0.8933333333333333\n"
     ]
    }
   ],
   "source": [
    "df_ovr = LogisticRegression(multi_class= 'ovr')\n",
    "df_ovr.fit(X,y)\n",
    "\n",
    "print(\"oaa_ovr=\", df_ovr.score(X,y)) # 0.89"
   ]
  },
  {
   "cell_type": "code",
   "execution_count": 18,
   "id": "792dda2f",
   "metadata": {},
   "outputs": [
    {
     "name": "stdout",
     "output_type": "stream",
     "text": [
      "ovr\n",
      "\n",
      "[[50  0  0]\n",
      " [ 0 37 13]\n",
      " [ 0  3 47]]\n",
      "              precision    recall  f1-score   support\n",
      "\n",
      "           0       1.00      1.00      1.00        50\n",
      "           1       0.93      0.74      0.82        50\n",
      "           2       0.78      0.94      0.85        50\n",
      "\n",
      "    accuracy                           0.89       150\n",
      "   macro avg       0.90      0.89      0.89       150\n",
      "weighted avg       0.90      0.89      0.89       150\n",
      "\n"
     ]
    }
   ],
   "source": [
    "# predictions\n",
    "pred_ovr = df_ovr.predict(X)\n",
    "\n",
    "print(\"ovr\\n\")\n",
    "print(metrics.confusion_matrix(y, pred_ovr, labels = [0,1,2]))\n",
    "print(metrics.classification_report(y, pred_ovr, labels = [0,1,2]))"
   ]
  },
  {
   "cell_type": "code",
   "execution_count": 19,
   "id": "bbd3592f",
   "metadata": {},
   "outputs": [
    {
     "name": "stdout",
     "output_type": "stream",
     "text": [
      "oaa= 0.94\n"
     ]
    }
   ],
   "source": [
    "#______________another way! not ovr but , multinomial way!\n",
    "df_mul = LogisticRegression(multi_class= 'multinomial')\n",
    "df_mul.fit(X,y)\n",
    "\n",
    "print(\"oaa=\", df_mul.score(X,y)) # ovr =0.89, mul = 0.94"
   ]
  },
  {
   "cell_type": "code",
   "execution_count": 20,
   "id": "34b09507",
   "metadata": {},
   "outputs": [
    {
     "name": "stdout",
     "output_type": "stream",
     "text": [
      "mul\n",
      "\n",
      "[[50  0  0]\n",
      " [ 0 45  5]\n",
      " [ 0  4 46]]\n",
      "              precision    recall  f1-score   support\n",
      "\n",
      "           0       1.00      1.00      1.00        50\n",
      "           1       0.92      0.90      0.91        50\n",
      "           2       0.90      0.92      0.91        50\n",
      "\n",
      "    accuracy                           0.94       150\n",
      "   macro avg       0.94      0.94      0.94       150\n",
      "weighted avg       0.94      0.94      0.94       150\n",
      "\n"
     ]
    }
   ],
   "source": [
    "# predictions\n",
    "pred_mul = df_mul.predict(X)\n",
    "\n",
    "print(\"mul\\n\")\n",
    "print(metrics.confusion_matrix(y, pred_mul, labels = [0,1,2]))\n",
    "print(metrics.classification_report(y, pred_mul, labels = [0,1,2]))"
   ]
  },
  {
   "cell_type": "code",
   "execution_count": null,
   "id": "dd39dcd2",
   "metadata": {},
   "outputs": [],
   "source": []
  },
  {
   "cell_type": "code",
   "execution_count": null,
   "id": "a081707b",
   "metadata": {},
   "outputs": [],
   "source": []
  }
 ],
 "metadata": {
  "kernelspec": {
   "display_name": "Python 3 (ipykernel)",
   "language": "python",
   "name": "python3"
  },
  "language_info": {
   "codemirror_mode": {
    "name": "ipython",
    "version": 3
   },
   "file_extension": ".py",
   "mimetype": "text/x-python",
   "name": "python",
   "nbconvert_exporter": "python",
   "pygments_lexer": "ipython3",
   "version": "3.10.6"
  }
 },
 "nbformat": 4,
 "nbformat_minor": 5
}
